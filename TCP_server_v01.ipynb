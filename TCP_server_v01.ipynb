{
 "cells": [
  {
   "cell_type": "code",
   "execution_count": 9,
   "metadata": {},
   "outputs": [
    {
     "data": {
      "text/plain": [
       "('DESKTOP-AG6MLBM', [], ['169.254.49.37', '192.168.56.1', '192.168.0.54'])"
      ]
     },
     "execution_count": 9,
     "metadata": {},
     "output_type": "execute_result"
    }
   ],
   "source": [
    "import socket\n",
    "import threading\n",
    "\n",
    "socket.gethostbyname_ex(socket.gethostname())"
   ]
  },
  {
   "cell_type": "code",
   "execution_count": null,
   "metadata": {},
   "outputs": [
    {
     "ename": "",
     "evalue": "",
     "output_type": "error",
     "traceback": [
      "\u001b[1;31mRunning cells with 'Python 3.9.12 ('.venv')' requires ipykernel package.\n",
      "Run the following command to install 'ipykernel' into the Python environment. \n",
      "Command: 'conda install -n .venv ipykernel --update-deps --force-reinstall'"
     ]
    }
   ],
   "source": [
    "import socket\n",
    "import threading\n",
    "\n",
    "HEADER = 64\n",
    "PORT = 5050\n",
    "SERVER = socket.gethostbyname_ex(socket.gethostname())[2][2]\n",
    "ADDR = (SERVER, PORT)\n",
    "FORMAT = 'utf-8'\n",
    "DISCONNECT_MESSAGE = \"!DISCONNECT\"\n",
    "\n",
    "server = socket.socket(socket.AF_INET, socket.SOCK_STREAM)\n",
    "server.bind(ADDR)\n",
    "\n",
    "\n",
    "\n",
    "def handle_client(conn: socket.socket, addr):\n",
    "    print(f\"[NEW CONNECTION] {addr} connected\")\n",
    "    \n",
    "    connected = True\n",
    "    while connected:\n",
    "        msg_lenght = conn.recv(HEADER).decode(FORMAT)\n",
    "        if msg_lenght:            \n",
    "            msg_lenght = int(msg_lenght)\n",
    "            msg = conn.recv(msg_lenght).decode(FORMAT) \n",
    "            if msg == DISCONNECT_MESSAGE:\n",
    "                connected = False\n",
    "            print(f\"{addr} {msg_lenght} {msg}\")\n",
    "            conn.send(\"Msg received\".encode(FORMAT))\n",
    "\n",
    "def start():\n",
    "    server.listen()\n",
    "    print(f\"[LISTENING] Server is listening in {SERVER}\")\n",
    "    while True:\n",
    "        conn, addr = server.accept()\n",
    "        thread = threading.Thread(target=handle_client, args=(conn, addr))\n",
    "        thread.start()\n",
    "        print(f\"[ACTIVE CONNECTIONS] {threading.activeCount() - 1}\")\n",
    "        "
   ]
  },
  {
   "cell_type": "code",
   "execution_count": 2,
   "metadata": {},
   "outputs": [
    {
     "name": "stdout",
     "output_type": "stream",
     "text": [
      "[STARTING] server is starting...\n",
      "[LISTENING] Server is listening in 192.168.0.54\n",
      "[NEW CONNECTION] ('192.168.0.54', 4365) connected[ACTIVE CONNECTIONS] 6\n",
      "\n",
      "('192.168.0.54', 4365) 11 HOLA MUNDO!\n",
      "('192.168.0.54', 4365) 11 hola chicho\n",
      "('192.168.0.54', 4365) 11 !DISCONNECT\n",
      "[NEW CONNECTION] ('192.168.0.54', 4416) connected[ACTIVE CONNECTIONS] 6\n",
      "\n",
      "('192.168.0.54', 4416) 11 HOLA MUNDO!\n",
      "('192.168.0.54', 4416) 11 hola chicho\n",
      "('192.168.0.54', 4416) 11 !DISCONNECT\n"
     ]
    }
   ],
   "source": [
    "print(\"[STARTING] server is starting...\")\n",
    "start()"
   ]
  },
  {
   "cell_type": "code",
   "execution_count": 5,
   "metadata": {},
   "outputs": [
    {
     "data": {
      "text/plain": [
       "'192.168.0.54'"
      ]
     },
     "execution_count": 5,
     "metadata": {},
     "output_type": "execute_result"
    }
   ],
   "source": [
    "import socket\n",
    "\n",
    "PORT = 32000\n",
    "socket.gethostbyname_ex(socket.gethostname())[-1][-1]"
   ]
  },
  {
   "cell_type": "code",
   "execution_count": 128,
   "metadata": {},
   "outputs": [
    {
     "name": "stdout",
     "output_type": "stream",
     "text": [
      "0000\n"
     ]
    }
   ],
   "source": [
    "incremental = 0\n",
    "\n",
    "print(f'{incremental:04d}')"
   ]
  },
  {
   "cell_type": "code",
   "execution_count": 342,
   "metadata": {},
   "outputs": [
    {
     "name": "stdout",
     "output_type": "stream",
     "text": [
      "DE,0214,0000,CID,0056181122010030\n",
      "(b'\\x01$e\\xcc;CWm\\x82\\x92', ('192.168.0.10', 2000))\n"
     ]
    }
   ],
   "source": [
    "import socket\n",
    "\n",
    "PORT = 2001\n",
    "SERVER = socket.gethostbyname_ex(socket.gethostname())[-1][-1]\n",
    "ADDR = (SERVER, PORT)\n",
    "\n",
    "server = socket.socket(socket.AF_INET, socket.SOCK_DGRAM)\n",
    "server.bind(ADDR)\n",
    "\n",
    "incremental+=1\n",
    "\n",
    "print(f'DE,{incremental:04d},0000,CID,0056181122010030')\n",
    "\n",
    "msg_to_send = encrypt_bap_msg(f'DE,{incremental:04d},0000,CID,0056181122010030')\n",
    "\n",
    "server.sendto(bytes(msg_to_send), ('192.168.0.10', 2000))\n",
    "\n",
    "datos = server.recvfrom(2048)\n",
    "\n",
    "print(datos)\n",
    "\n",
    "server.close()\n"
   ]
  },
  {
   "cell_type": "code",
   "execution_count": 110,
   "metadata": {},
   "outputs": [
    {
     "data": {
      "text/plain": [
       "[1, 184, 208, 167, 123, 84, 236, 199, 158, 115, 74, 226, 191, 138, 86, 47, 250]"
      ]
     },
     "execution_count": 110,
     "metadata": {},
     "output_type": "execute_result"
    }
   ],
   "source": [
    "import random\n",
    "\n",
    "def encrypt_bap_msg(msg: str) -> str: \n",
    "    aux = []\n",
    "    result = []\n",
    "    \n",
    "    shkey = random.randint(0,255)        \n",
    "    \n",
    "    for i in msg:\n",
    "        aux.append(ord(i) ^ shkey) \n",
    "    \n",
    "    for i in range(1,len(aux)):\n",
    "        aux[i] = aux[i] + aux[i-1] & 0xFF        \n",
    "        \n",
    "    result.append(1)\n",
    "    result.append(shkey)\n",
    "    result.extend(aux)\n",
    "    \n",
    "    return result\n",
    "    \n",
    "encrypt_bap_msg('hola como estas')"
   ]
  },
  {
   "cell_type": "code",
   "execution_count": 344,
   "metadata": {},
   "outputs": [
    {
     "ename": "ValueError",
     "evalue": "Only SOCK_STREAM socket type is supported",
     "output_type": "error",
     "traceback": [
      "\u001b[1;31m---------------------------------------------------------------------------\u001b[0m",
      "\u001b[1;31mValueError\u001b[0m                                Traceback (most recent call last)",
      "\u001b[1;32mc:\\Users\\fert2\\OneDrive - Prosegur Cia. De Seguridad, S.A\\Archivos GIASA-PROSEGUR\\DMP SCSVR reverse engineering\\TCP_server_v01.ipynb Cell 8'\u001b[0m in \u001b[0;36m<cell line: 1>\u001b[1;34m()\u001b[0m\n\u001b[1;32m----> <a href='vscode-notebook-cell:/c%3A/Users/fert2/OneDrive%20-%20Prosegur%20Cia.%20De%20Seguridad%2C%20S.A/Archivos%20GIASA-PROSEGUR/DMP%20SCSVR%20reverse%20engineering/TCP_server_v01.ipynb#ch0000010?line=0'>1</a>\u001b[0m server, client \u001b[39m=\u001b[39m socket\u001b[39m.\u001b[39;49msocketpair(socket\u001b[39m.\u001b[39;49mAF_INET, socket\u001b[39m.\u001b[39;49mSOCK_DGRAM)\n",
      "File \u001b[1;32mC:\\Program Files\\WindowsApps\\PythonSoftwareFoundation.Python.3.9_3.9.3312.0_x64__qbz5n2kfra8p0\\lib\\socket.py:623\u001b[0m, in \u001b[0;36msocketpair\u001b[1;34m(family, type, proto)\u001b[0m\n\u001b[0;32m    <a href='file:///c%3A/Program%20Files/WindowsApps/PythonSoftwareFoundation.Python.3.9_3.9.3312.0_x64__qbz5n2kfra8p0/lib/socket.py?line=619'>620</a>\u001b[0m     \u001b[39mraise\u001b[39;00m \u001b[39mValueError\u001b[39;00m(\u001b[39m\"\u001b[39m\u001b[39mOnly AF_INET and AF_INET6 socket address families \u001b[39m\u001b[39m\"\u001b[39m\n\u001b[0;32m    <a href='file:///c%3A/Program%20Files/WindowsApps/PythonSoftwareFoundation.Python.3.9_3.9.3312.0_x64__qbz5n2kfra8p0/lib/socket.py?line=620'>621</a>\u001b[0m                      \u001b[39m\"\u001b[39m\u001b[39mare supported\u001b[39m\u001b[39m\"\u001b[39m)\n\u001b[0;32m    <a href='file:///c%3A/Program%20Files/WindowsApps/PythonSoftwareFoundation.Python.3.9_3.9.3312.0_x64__qbz5n2kfra8p0/lib/socket.py?line=621'>622</a>\u001b[0m \u001b[39mif\u001b[39;00m \u001b[39mtype\u001b[39m \u001b[39m!=\u001b[39m SOCK_STREAM:\n\u001b[1;32m--> <a href='file:///c%3A/Program%20Files/WindowsApps/PythonSoftwareFoundation.Python.3.9_3.9.3312.0_x64__qbz5n2kfra8p0/lib/socket.py?line=622'>623</a>\u001b[0m     \u001b[39mraise\u001b[39;00m \u001b[39mValueError\u001b[39;00m(\u001b[39m\"\u001b[39m\u001b[39mOnly SOCK_STREAM socket type is supported\u001b[39m\u001b[39m\"\u001b[39m)\n\u001b[0;32m    <a href='file:///c%3A/Program%20Files/WindowsApps/PythonSoftwareFoundation.Python.3.9_3.9.3312.0_x64__qbz5n2kfra8p0/lib/socket.py?line=623'>624</a>\u001b[0m \u001b[39mif\u001b[39;00m proto \u001b[39m!=\u001b[39m \u001b[39m0\u001b[39m:\n\u001b[0;32m    <a href='file:///c%3A/Program%20Files/WindowsApps/PythonSoftwareFoundation.Python.3.9_3.9.3312.0_x64__qbz5n2kfra8p0/lib/socket.py?line=624'>625</a>\u001b[0m     \u001b[39mraise\u001b[39;00m \u001b[39mValueError\u001b[39;00m(\u001b[39m\"\u001b[39m\u001b[39mOnly protocol zero is supported\u001b[39m\u001b[39m\"\u001b[39m)\n",
      "\u001b[1;31mValueError\u001b[0m: Only SOCK_STREAM socket type is supported"
     ]
    }
   ],
   "source": [
    "server, client = socket.socketpair(socket.AF_INET, socket.SOCK_DGRAM)"
   ]
  },
  {
   "cell_type": "code",
   "execution_count": 343,
   "metadata": {},
   "outputs": [
    {
     "ename": "RuntimeError",
     "evalue": "This event loop is already running",
     "output_type": "error",
     "traceback": [
      "\u001b[1;31m---------------------------------------------------------------------------\u001b[0m",
      "\u001b[1;31mRuntimeError\u001b[0m                              Traceback (most recent call last)",
      "\u001b[1;32mc:\\Users\\fert2\\OneDrive - Prosegur Cia. De Seguridad, S.A\\Archivos GIASA-PROSEGUR\\DMP SCSVR reverse engineering\\TCP_server_v01.ipynb Cell 8'\u001b[0m in \u001b[0;36m<cell line: 37>\u001b[1;34m()\u001b[0m\n\u001b[0;32m     <a href='vscode-notebook-cell:/c%3A/Users/fert2/OneDrive%20-%20Prosegur%20Cia.%20De%20Seguridad%2C%20S.A/Archivos%20GIASA-PROSEGUR/DMP%20SCSVR%20reverse%20engineering/TCP_server_v01.ipynb#ch0000007?line=34'>35</a>\u001b[0m loop \u001b[39m=\u001b[39m asyncio\u001b[39m.\u001b[39mget_event_loop()\n\u001b[0;32m     <a href='vscode-notebook-cell:/c%3A/Users/fert2/OneDrive%20-%20Prosegur%20Cia.%20De%20Seguridad%2C%20S.A/Archivos%20GIASA-PROSEGUR/DMP%20SCSVR%20reverse%20engineering/TCP_server_v01.ipynb#ch0000007?line=35'>36</a>\u001b[0m t \u001b[39m=\u001b[39m loop\u001b[39m.\u001b[39mcreate_datagram_endpoint(SyslogProtocol, local_addr\u001b[39m=\u001b[39m(\u001b[39m'\u001b[39m\u001b[39m0.0.0.0\u001b[39m\u001b[39m'\u001b[39m, PORT))\n\u001b[1;32m---> <a href='vscode-notebook-cell:/c%3A/Users/fert2/OneDrive%20-%20Prosegur%20Cia.%20De%20Seguridad%2C%20S.A/Archivos%20GIASA-PROSEGUR/DMP%20SCSVR%20reverse%20engineering/TCP_server_v01.ipynb#ch0000007?line=36'>37</a>\u001b[0m loop\u001b[39m.\u001b[39;49mrun_until_complete(t) \u001b[39m# Server starts listening\u001b[39;00m\n\u001b[0;32m     <a href='vscode-notebook-cell:/c%3A/Users/fert2/OneDrive%20-%20Prosegur%20Cia.%20De%20Seguridad%2C%20S.A/Archivos%20GIASA-PROSEGUR/DMP%20SCSVR%20reverse%20engineering/TCP_server_v01.ipynb#ch0000007?line=37'>38</a>\u001b[0m loop\u001b[39m.\u001b[39mrun_until_complete(write_messages()) \u001b[39m# Start writing messages (or running tests)\u001b[39;00m\n\u001b[0;32m     <a href='vscode-notebook-cell:/c%3A/Users/fert2/OneDrive%20-%20Prosegur%20Cia.%20De%20Seguridad%2C%20S.A/Archivos%20GIASA-PROSEGUR/DMP%20SCSVR%20reverse%20engineering/TCP_server_v01.ipynb#ch0000007?line=38'>39</a>\u001b[0m loop\u001b[39m.\u001b[39mrun_forever()\n",
      "File \u001b[1;32mC:\\Program Files\\WindowsApps\\PythonSoftwareFoundation.Python.3.9_3.9.3312.0_x64__qbz5n2kfra8p0\\lib\\asyncio\\base_events.py:623\u001b[0m, in \u001b[0;36mBaseEventLoop.run_until_complete\u001b[1;34m(self, future)\u001b[0m\n\u001b[0;32m    <a href='file:///c%3A/Program%20Files/WindowsApps/PythonSoftwareFoundation.Python.3.9_3.9.3312.0_x64__qbz5n2kfra8p0/lib/asyncio/base_events.py?line=611'>612</a>\u001b[0m \u001b[39m\"\"\"Run until the Future is done.\u001b[39;00m\n\u001b[0;32m    <a href='file:///c%3A/Program%20Files/WindowsApps/PythonSoftwareFoundation.Python.3.9_3.9.3312.0_x64__qbz5n2kfra8p0/lib/asyncio/base_events.py?line=612'>613</a>\u001b[0m \n\u001b[0;32m    <a href='file:///c%3A/Program%20Files/WindowsApps/PythonSoftwareFoundation.Python.3.9_3.9.3312.0_x64__qbz5n2kfra8p0/lib/asyncio/base_events.py?line=613'>614</a>\u001b[0m \u001b[39mIf the argument is a coroutine, it is wrapped in a Task.\u001b[39;00m\n\u001b[1;32m   (...)\u001b[0m\n\u001b[0;32m    <a href='file:///c%3A/Program%20Files/WindowsApps/PythonSoftwareFoundation.Python.3.9_3.9.3312.0_x64__qbz5n2kfra8p0/lib/asyncio/base_events.py?line=619'>620</a>\u001b[0m \u001b[39mReturn the Future's result, or raise its exception.\u001b[39;00m\n\u001b[0;32m    <a href='file:///c%3A/Program%20Files/WindowsApps/PythonSoftwareFoundation.Python.3.9_3.9.3312.0_x64__qbz5n2kfra8p0/lib/asyncio/base_events.py?line=620'>621</a>\u001b[0m \u001b[39m\"\"\"\u001b[39;00m\n\u001b[0;32m    <a href='file:///c%3A/Program%20Files/WindowsApps/PythonSoftwareFoundation.Python.3.9_3.9.3312.0_x64__qbz5n2kfra8p0/lib/asyncio/base_events.py?line=621'>622</a>\u001b[0m \u001b[39mself\u001b[39m\u001b[39m.\u001b[39m_check_closed()\n\u001b[1;32m--> <a href='file:///c%3A/Program%20Files/WindowsApps/PythonSoftwareFoundation.Python.3.9_3.9.3312.0_x64__qbz5n2kfra8p0/lib/asyncio/base_events.py?line=622'>623</a>\u001b[0m \u001b[39mself\u001b[39;49m\u001b[39m.\u001b[39;49m_check_running()\n\u001b[0;32m    <a href='file:///c%3A/Program%20Files/WindowsApps/PythonSoftwareFoundation.Python.3.9_3.9.3312.0_x64__qbz5n2kfra8p0/lib/asyncio/base_events.py?line=624'>625</a>\u001b[0m new_task \u001b[39m=\u001b[39m \u001b[39mnot\u001b[39;00m futures\u001b[39m.\u001b[39misfuture(future)\n\u001b[0;32m    <a href='file:///c%3A/Program%20Files/WindowsApps/PythonSoftwareFoundation.Python.3.9_3.9.3312.0_x64__qbz5n2kfra8p0/lib/asyncio/base_events.py?line=625'>626</a>\u001b[0m future \u001b[39m=\u001b[39m tasks\u001b[39m.\u001b[39mensure_future(future, loop\u001b[39m=\u001b[39m\u001b[39mself\u001b[39m)\n",
      "File \u001b[1;32mC:\\Program Files\\WindowsApps\\PythonSoftwareFoundation.Python.3.9_3.9.3312.0_x64__qbz5n2kfra8p0\\lib\\asyncio\\base_events.py:583\u001b[0m, in \u001b[0;36mBaseEventLoop._check_running\u001b[1;34m(self)\u001b[0m\n\u001b[0;32m    <a href='file:///c%3A/Program%20Files/WindowsApps/PythonSoftwareFoundation.Python.3.9_3.9.3312.0_x64__qbz5n2kfra8p0/lib/asyncio/base_events.py?line=580'>581</a>\u001b[0m \u001b[39mdef\u001b[39;00m \u001b[39m_check_running\u001b[39m(\u001b[39mself\u001b[39m):\n\u001b[0;32m    <a href='file:///c%3A/Program%20Files/WindowsApps/PythonSoftwareFoundation.Python.3.9_3.9.3312.0_x64__qbz5n2kfra8p0/lib/asyncio/base_events.py?line=581'>582</a>\u001b[0m     \u001b[39mif\u001b[39;00m \u001b[39mself\u001b[39m\u001b[39m.\u001b[39mis_running():\n\u001b[1;32m--> <a href='file:///c%3A/Program%20Files/WindowsApps/PythonSoftwareFoundation.Python.3.9_3.9.3312.0_x64__qbz5n2kfra8p0/lib/asyncio/base_events.py?line=582'>583</a>\u001b[0m         \u001b[39mraise\u001b[39;00m \u001b[39mRuntimeError\u001b[39;00m(\u001b[39m'\u001b[39m\u001b[39mThis event loop is already running\u001b[39m\u001b[39m'\u001b[39m)\n\u001b[0;32m    <a href='file:///c%3A/Program%20Files/WindowsApps/PythonSoftwareFoundation.Python.3.9_3.9.3312.0_x64__qbz5n2kfra8p0/lib/asyncio/base_events.py?line=583'>584</a>\u001b[0m     \u001b[39mif\u001b[39;00m events\u001b[39m.\u001b[39m_get_running_loop() \u001b[39mis\u001b[39;00m \u001b[39mnot\u001b[39;00m \u001b[39mNone\u001b[39;00m:\n\u001b[0;32m    <a href='file:///c%3A/Program%20Files/WindowsApps/PythonSoftwareFoundation.Python.3.9_3.9.3312.0_x64__qbz5n2kfra8p0/lib/asyncio/base_events.py?line=584'>585</a>\u001b[0m         \u001b[39mraise\u001b[39;00m \u001b[39mRuntimeError\u001b[39;00m(\n\u001b[0;32m    <a href='file:///c%3A/Program%20Files/WindowsApps/PythonSoftwareFoundation.Python.3.9_3.9.3312.0_x64__qbz5n2kfra8p0/lib/asyncio/base_events.py?line=585'>586</a>\u001b[0m             \u001b[39m'\u001b[39m\u001b[39mCannot run the event loop while another loop is running\u001b[39m\u001b[39m'\u001b[39m)\n",
      "\u001b[1;31mRuntimeError\u001b[0m: This event loop is already running"
     ]
    }
   ],
   "source": [
    "import socket\n",
    "import asyncio\n",
    "import os, random\n",
    "\n",
    "HOST, PORT = 'localhost', 514\n",
    "\n",
    "\n",
    "def send_test_message(message: 'Message to send to UDP port 514') -> None:\n",
    "    sock = socket.socket(socket.AF_INET,  # Internet\n",
    "                         socket.SOCK_DGRAM)  # UDP\n",
    "    sock.sendto(message.encode(), (HOST, PORT))\n",
    "\n",
    "\n",
    "async def write_messages() -> \"Continuously write messages to UDP port 514\":\n",
    "    dir_path = os.path.dirname(os.path.realpath(__file__))\n",
    "    fp = open(os.path.join(dir_path, \"tests/example.log\"))\n",
    "    print(\"writing\")\n",
    "    for line in fp.readlines():\n",
    "        await asyncio.sleep(random.uniform(0.1, 3.0))\n",
    "        send_test_message(line)\n",
    "\n",
    "\n",
    "class SyslogProtocol(asyncio.DatagramProtocol):\n",
    "    def __init__(self):\n",
    "        super().__init__()\n",
    "\n",
    "    def connection_made(self, transport) -> \"Used by asyncio\":\n",
    "        self.transport = transport\n",
    "\n",
    "    def datagram_received(self, data, addr) -> \"Main entrypoint for processing message\":\n",
    "        # Here is where you would push message to whatever methods/classes you want.\n",
    "        print(f\"Received Syslog message: {data}\")\n",
    "\n",
    "\n",
    "if __name__ == '__main__':\n",
    "    loop = asyncio.get_event_loop()\n",
    "    t = loop.create_datagram_endpoint(SyslogProtocol, local_addr=('0.0.0.0', PORT))\n",
    "    loop.run_until_complete(t) # Server starts listening\n",
    "    loop.run_until_complete(write_messages()) # Start writing messages (or running tests)\n",
    "    loop.run_forever()"
   ]
  },
  {
   "cell_type": "code",
   "execution_count": 375,
   "metadata": {},
   "outputs": [
    {
     "name": "stdout",
     "output_type": "stream",
     "text": [
      "ACK,8569\n",
      "ACK,8570\n",
      "ACK,8571\n",
      "ACK,8572\n",
      "ACK,8573\n",
      "ACK,8574\n",
      "ACK,8575\n",
      "ACK,8576\n",
      "ACK,8577\n",
      "ACK,8578\n",
      "ACK,8579\n",
      "ACK,8580\n"
     ]
    },
    {
     "name": "stderr",
     "output_type": "stream",
     "text": [
      "C:\\Users\\fert2\\AppData\\Local\\Temp\\ipykernel_27704\\372282375.py:25: RuntimeWarning: overflow encountered in ubyte_scalars\n",
      "  result.append((uint8(MsgBapMgr[i]) - uint8(MsgBapMgr[i-1])) ^ bkey)\n"
     ]
    }
   ],
   "source": [
    "from numpy import uint8\n",
    "\n",
    "mensajes = [\n",
    "b'\\x01\\x17V\\xaa\\x06Ap\\x92\\xb3\\xe1',\n",
    "b'\\x01u4j\\xa8\\x01N\\x8e\\xd0\\x15',\n",
    "b'\\x01\\xa7\\xe6\\xca\\xb6A\\xe0r\\x02\\x98',\n",
    "b'\\x01\\xc9\\x88\\x12\\x94yjfd_',\n",
    "b'\\x01c\"Bj\\xb9\\x14j\\xbe\\x0e',\n",
    "b'\\x01h)Tw\\xbb\\x0bh\\xc7#',\n",
    "b'\\x01\\x01@\\x82\\xcc\\xf92f\\x9c\\xd0',\n",
    "b'\\x01)h\\xd249Jf\\x84\\xa3',\n",
    "b'\\x01\\x93\\xd2\\xa2z9\\xe4\\x8a.\\xd2',\n",
    "b'\\x01K\\n\\x12\\x12y\\xecj\\xe6Y',\n",
    "b'\\x011p\\xe2\\\\y\\x82\\x86\\x8c\\x94',\n",
    "b'\\x01\\x12S\\xa4\\xfd;e\\x8c\\xb6\\xd8'\n",
    "]\n",
    "\n",
    "def decrypt_bap_msg(MsgBapMgr) -> str:\n",
    "    result = []\n",
    "    if len(MsgBapMgr) > 3:\n",
    "        bkey = MsgBapMgr[1]\t\t\t\t\t\t\t\t\t\t# El segundo byte es un caracter random generado por el que envia el mensaje\n",
    "        MsgBapMgr[1] = 0\t\t\t\t\t\t\t\t\t\t# Cuando se encripta el mensaje, al primer elemento se le aplica XOR pero no se suma con nada!!!!*\n",
    "\n",
    "        for i in range(2,len(MsgBapMgr)):\n",
    "            result.append((uint8(MsgBapMgr[i]) - uint8(MsgBapMgr[i-1])) ^ bkey)                 \n",
    "        \n",
    "        return bytes(result).decode()\n",
    "\t\t\n",
    "for m in mensajes:\n",
    "    decr = decrypt_bap_msg(bytearray(m))\n",
    "    print(decr)"
   ]
  },
  {
   "cell_type": "code",
   "execution_count": 174,
   "metadata": {},
   "outputs": [
    {
     "name": "stdout",
     "output_type": "stream",
     "text": [
      "000718123808528C\n"
     ]
    }
   ],
   "source": [
    "import random\n",
    "\n",
    "def calcCidChecksum(cidmsg):\n",
    "    suma=0\n",
    "    for i in cidmsg:\n",
    "        suma += (int(i,base=16) if (i != '0') else 10)\n",
    "        resto = 15 - (suma % 15)\n",
    "        #print(f'{i}  {suma}  {hex(suma)}  {hex(resto)}')\n",
    "    return resto\n",
    "        \n",
    "def rndCidCreator():\n",
    "    acct = random.choice([4,7])#random.randint(1,9999)\n",
    "    q = random.choice([1,3])\n",
    "    evc = random.randint(1,999)\n",
    "    gg = random.randint(1,32)\n",
    "    CCC = random.randint(1,999)\n",
    "    cidmsg = f'{acct:04d}18{q}{evc:03d}{gg:02d}{CCC:03d}'\n",
    "    chksum = calcCidChecksum(cidmsg)\n",
    "    print(f'{cidmsg}{chksum:X}')\n",
    "\n",
    "rndCidCreator()\n",
    "    "
   ]
  },
  {
   "cell_type": "code",
   "execution_count": null,
   "metadata": {},
   "outputs": [],
   "source": []
  }
 ],
 "metadata": {
  "kernelspec": {
   "display_name": "Python 3.9.12 ('.venv')",
   "language": "python",
   "name": "python3"
  },
  "language_info": {
   "codemirror_mode": {
    "name": "ipython",
    "version": 3
   },
   "file_extension": ".py",
   "mimetype": "text/x-python",
   "name": "python",
   "nbconvert_exporter": "python",
   "pygments_lexer": "ipython3",
   "version": "3.9.12"
  },
  "orig_nbformat": 4,
  "vscode": {
   "interpreter": {
    "hash": "d8b6a5a6e69ef8681494bc4d2d7b56d81a3c8f0ca9ee908818d3e396de46f1ea"
   }
  }
 },
 "nbformat": 4,
 "nbformat_minor": 2
}
