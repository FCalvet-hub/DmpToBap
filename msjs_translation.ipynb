{
 "cells": [
  {
   "cell_type": "code",
   "execution_count": 1,
   "metadata": {},
   "outputs": [
    {
     "name": "stdout",
     "output_type": "stream",
     "text": [
      "GOOD\n"
     ]
    }
   ],
   "source": [
    "import json\n",
    "\n",
    "in_str = '1-12345 Za\\\\029\\\\t \"BU\\\\z ***\"BURGLARY\\\\\\r'\n",
    "\n",
    "with open('DMPesquema.json') as f:\n",
    "    data = json.load(f)\n",
    "    \n",
    "for key in data:    \n",
    "    for event in data[key]['Event']:\n",
    "        #print(data[key]['Event'][event])\n",
    "        pass\n",
    "                \n",
    "if 'Za' in data.keys():\n",
    "    #print(json.dumps(data['Za'], indent=4, sort_keys=True))\n",
    "    print('GOOD')"
   ]
  },
  {
   "cell_type": "code",
   "execution_count": 2,
   "metadata": {},
   "outputs": [
    {
     "name": "stdout",
     "output_type": "stream",
     "text": [
      "Za\\029\\t \"BU\\z ***\"BURGLARY\\\n",
      "{'acct': '1-12345 ', 'def': 'Za', 'size': '029', 'type': 'BU'}\n",
      "['t \"BU', 'z ***\"BURGLARY', '\\r']\n"
     ]
    }
   ],
   "source": [
    "try:\n",
    "    evento = dict()\n",
    "    '''Se extrae el numero de cuenta y se separa el resto del mensaje'''\n",
    "    evento['acct'] = in_str[:in_str.index('Z')]\n",
    "    in_msg = in_str[in_str.index('Z'):]\n",
    "    print(in_msg)\n",
    "    \n",
    "    '''Se separa el mensaje delimitado por contrabarra'''\n",
    "    splt_msg = in_msg.split('\\\\')    \n",
    "    \n",
    "    evento['def'] = splt_msg.pop(0)     #se extrae la definicion del tipo de mensaje\n",
    "    \n",
    "    evento['size'] = splt_msg.pop(0)    #se extrae el largo    \n",
    "    \n",
    "    if len(in_msg) == int(evento['size']):\n",
    "        for ev_identifier in splt_msg:\n",
    "            if ev_identifier[0] == 't':          #event type ----  Number: tqnnn\\ or Text: tq\"cc\\ \n",
    "                if ev_identifier[2] == '\\\"':              #viene texto\n",
    "                    evento['type'] = ev_identifier[3:]\n",
    "                else:\n",
    "                    evento['type'] = ev_identifier[2:]    #viene numero                                 \n",
    "            if ev_identifier[0] == 'z':          #zone\n",
    "                pass\n",
    "            if ev_identifier[0] == 'a':          #area\n",
    "                pass\n",
    "            if ev_identifier[0] == 'v':          #device\n",
    "                pass\n",
    "            if ev_identifier[0] == 'n':          #schedule\n",
    "                pass\n",
    "            if ev_identifier[0] == 'e':          #qualifier\n",
    "                pass\n",
    "            if ev_identifier[0] == 'h':          #holiday\n",
    "                pass\n",
    "            if ev_identifier[0] == 'i':          #time/day\n",
    "                pass\n",
    "            if ev_identifier[0] == 'd':          #date\n",
    "                pass\n",
    "            if ev_identifier[0] == 'u':          #user code\n",
    "                pass\n",
    "            if ev_identifier[0] == 's':          #Service\n",
    "                pass\n",
    "            if ev_identifier[0] == 'g':          #Equipment\n",
    "                pass\n",
    "            if ev_identifier[0] == 'p':          #Programming\n",
    "                pass\n",
    "            if ev_identifier[0] == 'c':          #Path\n",
    "                pass\n",
    "            if ev_identifier[0] == 'n':          #Call info\n",
    "                pass\n",
    "            if ev_identifier[0] == 'b':          #Signal Strenght            \n",
    "                pass                \n",
    "    else:\n",
    "        pass\n",
    "    \n",
    "    print(evento)\n",
    "    print(splt_msg)\n",
    "except:\n",
    "    print('error')\n",
    "    pass\n",
    "\n",
    "\n"
   ]
  },
  {
   "cell_type": "code",
   "execution_count": 75,
   "metadata": {},
   "outputs": [
    {
     "data": {
      "text/plain": [
       "100"
      ]
     },
     "execution_count": 75,
     "metadata": {},
     "output_type": "execute_result"
    }
   ],
   "source": [
    "int('100')"
   ]
  },
  {
   "cell_type": "code",
   "execution_count": 27,
   "metadata": {},
   "outputs": [
    {
     "name": "stdout",
     "output_type": "stream",
     "text": [
      "8\n"
     ]
    }
   ],
   "source": [
    "cidmsg = '6556183402A1015D'\n",
    "cidmsg = '1234181131010158'\n",
    "cidmsg = '1234183131010156'\n",
    "cidmsg = '123418340103004F'\n",
    "#cidmsg = '1234181401020035'\n",
    "\n",
    "'''\n",
    "(Sum of all message digits + S) MOD 15 = 0\n",
    "Note: A 0 shall be transmitted as a 10 and\n",
    "valued as a 10 for checksum purposes even\n",
    "though it is displayed and printed as 0. It\n",
    "uses the same tone pair as the 0 (OPER)\n",
    "key on a standard telephone\n",
    "\n",
    "The message shall be sent as:\n",
    "1234 18 1131 01 015 8\n",
    "\n",
    "where:\n",
    "1234 = The account number (1234)\n",
    "18 = The message type used to identify\n",
    "the message as Contact ID\n",
    "1131 = The Event Qualifier (1) for a new\n",
    "event, followed by the Event\n",
    "Code for Perimeter Burglary\n",
    "(131)\n",
    "01 = The partition number (1)\n",
    "015 = The zone number (015)\n",
    "8 = The checksum, computed in the\n",
    "following manner:\n",
    "\n",
    "a) Add all of the message digits\n",
    "together, using 10 for all ‘0’ digits\n",
    "(1+2+3+4)+(1+8)+(1+1+3+1)+(1\n",
    "0+1)+(10+1+5) = 52\n",
    "b) Find the next highest multiple of\n",
    "15, in this case 60.\n",
    "c) Subtract the sum from this value\n",
    "(60-52 = 8)\n",
    "d) Use the result for the checksum..\n",
    "If the result is 0, use the digit ‘F’\n",
    "(15) for the checksum.\n",
    "\n",
    "'''\n",
    "digitmap = {\n",
    "0xA : '0',\n",
    "0xB : '*',\n",
    "0xC : '#',\n",
    "0xD : 'A',\n",
    "0xE : 'B',\n",
    "0xF : 'C'\n",
    "}\n",
    " \n",
    "def calcCidChecksum(cidmsg) -> str:\n",
    "    suma=0\n",
    "    for i in cidmsg:\n",
    "        suma += (int(i,base=16) if (i != '0') else 10)\n",
    "        resto = 15 - (suma % 15)        \n",
    "        print(f'{i}  {suma}  {hex(suma)}  {hex(resto)}')\n",
    "        \n",
    "nume = 8\n",
    "if nume in digitmap.keys():\n",
    "    print(digitmap[nume])\n",
    "else:\n",
    "    print(f'{nume}')\n",
    "    \n",
    "\n",
    "#calcCidChecksum(cidmsg=cidmsg)"
   ]
  },
  {
   "cell_type": "code",
   "execution_count": 34,
   "metadata": {},
   "outputs": [
    {
     "name": "stdout",
     "output_type": "stream",
     "text": [
      "1\n",
      "3\n",
      "True\n"
     ]
    }
   ],
   "source": [
    "lista = [1, 3, True, 0, \"hola\"]\n",
    "\n",
    "for i in lista:\n",
    "    if i == 0:\n",
    "        break\n",
    "    print(i)"
   ]
  },
  {
   "cell_type": "code",
   "execution_count": null,
   "metadata": {},
   "outputs": [],
   "source": []
  }
 ],
 "metadata": {
  "interpreter": {
   "hash": "209428afbfc41447a455e6a895f44b139daea233f58b5fb4fd4597f8815ac982"
  },
  "kernelspec": {
   "display_name": "Python 3.7.4 32-bit",
   "language": "python",
   "name": "python3"
  },
  "language_info": {
   "codemirror_mode": {
    "name": "ipython",
    "version": 3
   },
   "file_extension": ".py",
   "mimetype": "text/x-python",
   "name": "python",
   "nbconvert_exporter": "python",
   "pygments_lexer": "ipython3",
   "version": "3.7.4"
  },
  "orig_nbformat": 4
 },
 "nbformat": 4,
 "nbformat_minor": 2
}
